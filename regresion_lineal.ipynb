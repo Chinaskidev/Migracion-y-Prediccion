{
 "cells": [
  {
   "cell_type": "code",
   "execution_count": 3,
   "metadata": {},
   "outputs": [],
   "source": [
    "import pickle\n",
    "import pandas as pd\n",
    "import numpy as np\n",
    "import tensorflow as tf\n",
    "from sklearn.model_selection import train_test_split\n",
    "from sklearn.preprocessing import StandardScaler\n",
    "from sklearn.metrics import mean_squared_error\n",
    "from sklearn.metrics import mean_absolute_error\n",
    "from math import sqrt\n",
    "import matplotlib.pyplot as plt\n",
    "from sklearn.metrics import r2_score"
   ]
  },
  {
   "cell_type": "code",
   "execution_count": 5,
   "metadata": {},
   "outputs": [
    {
     "name": "stdout",
     "output_type": "stream",
     "text": [
      "10/10 [==============================] - 0s 1ms/step - loss: 0.0053\n",
      "Error en el conjunto de prueba: 0.005302903708070517\n",
      "10/10 [==============================] - 0s 921us/step\n",
      "Error cuadrático medio: 0.005302903665045269\n"
     ]
    }
   ],
   "source": [
    "# Cargar los datos desde el archivo .pkl\n",
    "with open('datos/df_normalizado.pkl', 'rb') as file:\n",
    "    datos_migracion = pickle.load(file)\n",
    "\n",
    "# Dividir los datos en características (X) y la variable objetivo (y)\n",
    "X = datos_migracion[['Total Number of Dead and Missing', 'Number of Survivors', 'Number of Females', 'Number of Males', 'Number of Children']]\n",
    "y = datos_migracion['Year']  # Reemplaza 'variable_objetivo' con el nombre de tu columna objetivo\n",
    "\n",
    "# Dividir los datos en conjuntos de entrenamiento y prueba\n",
    "X_train, X_test, y_train, y_test = train_test_split(X, y, test_size=0.2, random_state=42)\n",
    "\n",
    "# Escalado de características\n",
    "scaler = StandardScaler()\n",
    "X_train_scaled = scaler.fit_transform(X_train)\n",
    "X_test_scaled = scaler.transform(X_test)\n",
    "\n",
    "# Definir el modelo de regresión lineal en TensorFlow\n",
    "model = tf.keras.Sequential([\n",
    "    tf.keras.layers.Input(shape=(X_train_scaled.shape[1],)),\n",
    "    tf.keras.layers.Dense(1)  # Una capa densa para la regresión lineal\n",
    "])\n",
    "\n",
    "# Compilar el modelo\n",
    "model.compile(optimizer='adam', loss='mean_squared_error')\n",
    "\n",
    "# Entrenar el modelo\n",
    "model.fit(X_train_scaled, y_train, epochs=100, batch_size=32, verbose=0)\n",
    "\n",
    "# Evaluar el modelo\n",
    "loss = model.evaluate(X_test_scaled, y_test)\n",
    "print(\"Error en el conjunto de prueba:\", loss)\n",
    "\n",
    "# Hacer predicciones en el conjunto de prueba\n",
    "predicciones = model.predict(X_test_scaled)\n",
    "\n",
    "# Calcular el error cuadrático medio\n",
    "mse = mean_squared_error(y_test, predicciones)\n",
    "print(\"Error cuadrático medio:\", mse)\n"
   ]
  },
  {
   "cell_type": "code",
   "execution_count": 6,
   "metadata": {},
   "outputs": [
    {
     "name": "stdout",
     "output_type": "stream",
     "text": [
      "Mean Absolute Error: 0.02265178372695421\n"
     ]
    }
   ],
   "source": [
    "# Error Absoluto Medio(MAE)\n",
    "'''\n",
    "    En general, cuanto más bajo sea el valor del MAE, mejor será el rendimiento del modelo.\n",
    "'''\n",
    "mae = mean_absolute_error(y_test, predicciones)\n",
    "print(\"Mean Absolute Error:\", mae)"
   ]
  },
  {
   "cell_type": "code",
   "execution_count": 7,
   "metadata": {},
   "outputs": [
    {
     "name": "stdout",
     "output_type": "stream",
     "text": [
      "R^2: 0.0\n"
     ]
    }
   ],
   "source": [
    "# Calcular el R^2\n",
    "r2 = r2_score(y_test, predicciones)\n",
    "print(\"R^2:\", r2)"
   ]
  },
  {
   "cell_type": "code",
   "execution_count": 8,
   "metadata": {},
   "outputs": [
    {
     "name": "stdout",
     "output_type": "stream",
     "text": [
      "Error cuadrático medio: 0.005302903665045269\n"
     ]
    }
   ],
   "source": [
    "#Calcular el error cuadrático medio\n",
    "mse = mean_squared_error(y_test, predicciones)\n",
    "print(\"Error cuadrático medio:\", mse)"
   ]
  },
  {
   "cell_type": "code",
   "execution_count": 9,
   "metadata": {},
   "outputs": [
    {
     "name": "stdout",
     "output_type": "stream",
     "text": [
      "0.0728210386155352\n"
     ]
    }
   ],
   "source": [
    "# Raiz del error cuadrático medio(RMSE)\n",
    "rmse = sqrt(mean_squared_error(y_test, predicciones))\n",
    "print(rmse)"
   ]
  },
  {
   "cell_type": "code",
   "execution_count": 10,
   "metadata": {},
   "outputs": [
    {
     "name": "stdout",
     "output_type": "stream",
     "text": [
      "-0.017006802721088343\n"
     ]
    }
   ],
   "source": [
    "# Calcular el R^2 ajustado para el modelo\n",
    "n = len(X_test)  # número de observaciones\n",
    "p = X_test.shape[1]  # número de predictores\n",
    "r2 = r2_score(y_test, predicciones)\n",
    "adjusted_r2 = 1 - (1 - r2) * (n - 1) / (n - p - 1)\n",
    "print(adjusted_r2)"
   ]
  },
  {
   "cell_type": "code",
   "execution_count": 11,
   "metadata": {},
   "outputs": [
    {
     "name": "stdout",
     "output_type": "stream",
     "text": [
      "10/10 [==============================] - 0s 2ms/step\n",
      "inf\n"
     ]
    }
   ],
   "source": [
    "# Error porcentual absoluto medio (MAPE)\n",
    "predicciones = model.predict(X_test_scaled)\n",
    "\n",
    "# Aplanar las predicciones a un array unidimensional\n",
    "predicciones = predicciones.flatten()\n",
    "\n",
    "# Ahora puedes calcular el MAPE\n",
    "mape = np.mean(np.abs((y_test - predicciones) / y_test)) * 100\n",
    "print(mape)"
   ]
  }
 ],
 "metadata": {
  "kernelspec": {
   "display_name": "venv",
   "language": "python",
   "name": "python3"
  },
  "language_info": {
   "codemirror_mode": {
    "name": "ipython",
    "version": 3
   },
   "file_extension": ".py",
   "mimetype": "text/x-python",
   "name": "python",
   "nbconvert_exporter": "python",
   "pygments_lexer": "ipython3",
   "version": "3.11.7"
  }
 },
 "nbformat": 4,
 "nbformat_minor": 2
}
